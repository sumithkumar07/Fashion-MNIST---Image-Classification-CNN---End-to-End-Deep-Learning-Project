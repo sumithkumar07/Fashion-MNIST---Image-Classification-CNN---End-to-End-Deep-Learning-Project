{
  "cells": [
    {
      "cell_type": "markdown",
      "metadata": {
        "id": "view-in-github",
        "colab_type": "text"
      },
      "source": [
        "<a href=\"https://colab.research.google.com/github/sumithkumar07/Fashion-MNIST---Image-Classification-CNN---End-to-End-Deep-Learning-Project/blob/main/Copy_of_Welcome_To_Colab.ipynb\" target=\"_parent\"><img src=\"https://colab.research.google.com/assets/colab-badge.svg\" alt=\"Open In Colab\"/></a>"
      ]
    },
    {
      "cell_type": "code",
      "source": [
        "import pandas as pd\n",
        "import numpy as np\n",
        "from sklearn.model_selection import train_test_split\n",
        "import torch\n",
        "import torch.nn as nn\n",
        "import torch.optim as optim\n",
        "from torch.utils.data import DataLoader, TensorDataset\n",
        "import matplotlib.pyplot as plt\n",
        "from torch.utils.data import Dataset"
      ],
      "metadata": {
        "id": "5Jw-y4pRbs1e"
      },
      "execution_count": 91,
      "outputs": []
    },
    {
      "cell_type": "code",
      "source": [
        "# set random seeds for reproducibility\n",
        "torch.manual_seed(42)"
      ],
      "metadata": {
        "colab": {
          "base_uri": "https://localhost:8080/"
        },
        "id": "vo6qeMlgcJ0S",
        "outputId": "f29f167a-886a-4e81-d148-bfb16259bcc5"
      },
      "execution_count": 92,
      "outputs": [
        {
          "output_type": "execute_result",
          "data": {
            "text/plain": [
              "<torch._C.Generator at 0x7ea22a0dedb0>"
            ]
          },
          "metadata": {},
          "execution_count": 92
        }
      ]
    },
    {
      "cell_type": "code",
      "source": [],
      "metadata": {
        "colab": {
          "base_uri": "https://localhost:8080/"
        },
        "id": "WdmTmOTIvQ3F",
        "outputId": "6bffa433-032c-4739-8c30-e63557d1f06a"
      },
      "execution_count": 132,
      "outputs": [
        {
          "output_type": "execute_result",
          "data": {
            "text/plain": [
              "(2365, 785)"
            ]
          },
          "metadata": {},
          "execution_count": 132
        }
      ]
    },
    {
      "cell_type": "code",
      "source": [
        "train = pd.read_csv('/content/fashion-mnist_train.csv')\n",
        "test = pd.read_csv('/content/fashion-mnist_test.csv')"
      ],
      "metadata": {
        "id": "kF_foRkYcbvK"
      },
      "execution_count": 107,
      "outputs": []
    },
    {
      "cell_type": "code",
      "source": [
        "# train test split\n",
        "x = train.iloc[:, 1:].values\n",
        "y =train.iloc[:, 0].values"
      ],
      "metadata": {
        "id": "xRPC0p_hcmEA"
      },
      "execution_count": 95,
      "outputs": []
    },
    {
      "cell_type": "code",
      "source": [
        "x_test = test.iloc[:, 1:].values\n",
        "y_test = test.iloc[:, 0].values"
      ],
      "metadata": {
        "id": "2okzKt3qthir"
      },
      "execution_count": 108,
      "outputs": []
    },
    {
      "cell_type": "code",
      "source": [
        "x_train, x_test, y_train, y_test = train_test_split(x, y, random_state=42)"
      ],
      "metadata": {
        "id": "CoVMhsHBdJ-U"
      },
      "execution_count": 120,
      "outputs": []
    },
    {
      "cell_type": "code",
      "source": [
        "# scaling the data\n",
        "\n",
        "x_train = x_train/255.0\n",
        "x_test = x_test/255.0"
      ],
      "metadata": {
        "id": "UBs1aDfUdjkX"
      },
      "execution_count": 121,
      "outputs": []
    },
    {
      "cell_type": "code",
      "source": [
        "# create customdata class\n",
        "class CustomData(Dataset):\n",
        "\n",
        "  def __init__(self, features, labels):\n",
        "\n",
        "    self.features = torch.tensor(features, dtype=torch.float32)\n",
        "    self.labels = torch.tensor(labels, dtype=torch.int64)\n",
        "\n",
        "  def __len__(self):\n",
        "    return len(self.features)\n",
        "\n",
        "  def __getitem__(self, index):\n",
        "    return self.features[index], self.labels[index]"
      ],
      "metadata": {
        "id": "NHC7bO_lh7zG"
      },
      "execution_count": 122,
      "outputs": []
    },
    {
      "cell_type": "code",
      "source": [
        "train_dataset = CustomData(x_train, y_train)\n",
        "test_dataset = CustomData(x_test, y_test)"
      ],
      "metadata": {
        "id": "8sDwDdJ3fzVK"
      },
      "execution_count": 123,
      "outputs": []
    },
    {
      "cell_type": "code",
      "source": [
        "# create train and test data loader\n",
        "\n",
        "train_loader = DataLoader(train_dataset, batch_size=32, shuffle=True)\n",
        "test_loader = DataLoader(test_dataset, batch_size=32, shuffle=False)"
      ],
      "metadata": {
        "id": "Cbmq9A8SiS2t"
      },
      "execution_count": 124,
      "outputs": []
    },
    {
      "cell_type": "code",
      "source": [
        "# define nn class\n",
        "\n",
        "class MyNN(nn.Module):\n",
        "  def __init__(self, num_features):\n",
        "    super().__init__()\n",
        "    self.model = nn.Sequential(\n",
        "        nn.Linear(num_features, 128),\n",
        "        nn.ReLU(),\n",
        "        nn.Linear(128, 64),\n",
        "        nn.ReLU(),\n",
        "        nn.Linear(64, 10)\n",
        "    )\n",
        "\n",
        "  # The forward method should be at the same level as __init__\n",
        "  def forward(self, x):\n",
        "    return self.model(x)"
      ],
      "metadata": {
        "id": "ykTlMaRfn6p_"
      },
      "execution_count": 125,
      "outputs": []
    },
    {
      "cell_type": "code",
      "source": [
        "# set learning rate and epochs\n",
        "\n",
        "learning_rate = 0.1\n",
        "epochs = 100"
      ],
      "metadata": {
        "id": "Y-1QQ4KnkXHh"
      },
      "execution_count": 126,
      "outputs": []
    },
    {
      "cell_type": "code",
      "source": [
        "# instatiate the model\n",
        "\n",
        "model = MyNN(x_train.shape[1])\n",
        "\n",
        "# loss function\n",
        "\n",
        "criterion = nn.CrossEntropyLoss()\n",
        "\n",
        "# optimizer\n",
        "\n",
        "optimizer = optim.SGD(model.parameters(), lr=learning_rate)"
      ],
      "metadata": {
        "id": "YHeOsZ80kosi"
      },
      "execution_count": 127,
      "outputs": []
    },
    {
      "cell_type": "code",
      "source": [
        "# traning loop\n",
        "\n",
        "for epoch in range (epochs):\n",
        "\n",
        "  total_epoch_loss = 0\n",
        "\n",
        "  for batch_features , batch_labels in train_loader:\n",
        "\n",
        "    # forward pass\n",
        "\n",
        "    outputs = model(batch_features)\n",
        "\n",
        "    # loss calculate\n",
        "    loss = criterion(outputs, batch_labels)\n",
        "\n",
        "    # backward pass\n",
        "    optimizer.zero_grad()\n",
        "    loss.backward()\n",
        "\n",
        "    # updates grads\n",
        "    optimizer.step()\n",
        "\n",
        "    total_epoch_loss = total_epoch_loss + loss.item()\n",
        "\n",
        "  print(f\"Epoch {epoch+1}/{epochs}, Loss: {total_epoch_loss/len(train_loader)}\")"
      ],
      "metadata": {
        "colab": {
          "base_uri": "https://localhost:8080/"
        },
        "id": "ZFwYZvZXlhHU",
        "outputId": "d0ec63d2-2937-49d2-c88d-527bfe3e9adc"
      },
      "execution_count": 128,
      "outputs": [
        {
          "output_type": "stream",
          "name": "stdout",
          "text": [
            "Epoch 1/100, Loss: 1.3278635867098545\n",
            "Epoch 2/100, Loss: 0.792542982820078\n",
            "Epoch 3/100, Loss: 0.6729751239854393\n",
            "Epoch 4/100, Loss: 0.596674716958763\n",
            "Epoch 5/100, Loss: 0.5448368441128562\n",
            "Epoch 6/100, Loss: 0.4997357842347301\n",
            "Epoch 7/100, Loss: 0.47225829726415325\n",
            "Epoch 8/100, Loss: 0.4502764385431371\n",
            "Epoch 9/100, Loss: 0.4219666191026674\n",
            "Epoch 10/100, Loss: 0.41598508787070604\n",
            "Epoch 11/100, Loss: 0.38431967166087305\n",
            "Epoch 12/100, Loss: 0.4052959034840266\n",
            "Epoch 13/100, Loss: 0.357615368163332\n",
            "Epoch 14/100, Loss: 0.33454560203121064\n",
            "Epoch 15/100, Loss: 0.3365736832538395\n",
            "Epoch 16/100, Loss: 0.3109263594374589\n",
            "Epoch 17/100, Loss: 0.30686202777404314\n",
            "Epoch 18/100, Loss: 0.2820321686618717\n",
            "Epoch 19/100, Loss: 0.29030079864863806\n",
            "Epoch 20/100, Loss: 0.28534092732989197\n",
            "Epoch 21/100, Loss: 0.2612681715676548\n",
            "Epoch 22/100, Loss: 0.28003334959453724\n",
            "Epoch 23/100, Loss: 0.2539014662781083\n",
            "Epoch 24/100, Loss: 0.24950450151524645\n",
            "Epoch 25/100, Loss: 0.23599311461051306\n",
            "Epoch 26/100, Loss: 0.22762829850011684\n",
            "Epoch 27/100, Loss: 0.21274339502796213\n",
            "Epoch 28/100, Loss: 0.21232263088649048\n",
            "Epoch 29/100, Loss: 0.20071221359655367\n",
            "Epoch 30/100, Loss: 0.19831873471221179\n",
            "Epoch 31/100, Loss: 0.19941981285414162\n",
            "Epoch 32/100, Loss: 0.18807688623613922\n",
            "Epoch 33/100, Loss: 0.18692088545901134\n",
            "Epoch 34/100, Loss: 0.16702867473693603\n",
            "Epoch 35/100, Loss: 0.1594504277149202\n",
            "Epoch 36/100, Loss: 0.15997980291961778\n",
            "Epoch 37/100, Loss: 0.15162705752919328\n",
            "Epoch 38/100, Loss: 0.15290259515721324\n",
            "Epoch 39/100, Loss: 0.14368511957004138\n",
            "Epoch 40/100, Loss: 0.13439515634631435\n",
            "Epoch 41/100, Loss: 0.13244659557991417\n",
            "Epoch 42/100, Loss: 0.13301110247823786\n",
            "Epoch 43/100, Loss: 0.13339188911602007\n",
            "Epoch 44/100, Loss: 0.1298155705345438\n",
            "Epoch 45/100, Loss: 0.12302200559605943\n",
            "Epoch 46/100, Loss: 0.12647469502259442\n",
            "Epoch 47/100, Loss: 0.11752640728092363\n",
            "Epoch 48/100, Loss: 0.11583758439498802\n",
            "Epoch 49/100, Loss: 0.13841679497417195\n",
            "Epoch 50/100, Loss: 0.10453144068572115\n",
            "Epoch 51/100, Loss: 0.11237932409404229\n",
            "Epoch 52/100, Loss: 0.10625463604583596\n",
            "Epoch 53/100, Loss: 0.09435496257010398\n",
            "Epoch 54/100, Loss: 0.08155649773948265\n",
            "Epoch 55/100, Loss: 0.07354382159029867\n",
            "Epoch 56/100, Loss: 0.07228922601690159\n",
            "Epoch 57/100, Loss: 0.0846169242381072\n",
            "Epoch 58/100, Loss: 0.07233798973500094\n",
            "Epoch 59/100, Loss: 0.08132749447163115\n",
            "Epoch 60/100, Loss: 0.08091600129962073\n",
            "Epoch 61/100, Loss: 0.05789615096960296\n",
            "Epoch 62/100, Loss: 0.10520879249253594\n",
            "Epoch 63/100, Loss: 0.07871676312350001\n",
            "Epoch 64/100, Loss: 0.05632683445190918\n",
            "Epoch 65/100, Loss: 0.05478957974754855\n",
            "Epoch 66/100, Loss: 0.08913163872145063\n",
            "Epoch 67/100, Loss: 0.06273986218523578\n",
            "Epoch 68/100, Loss: 0.06792911715600772\n",
            "Epoch 69/100, Loss: 0.051294122388295775\n",
            "Epoch 70/100, Loss: 0.051743213142638245\n",
            "Epoch 71/100, Loss: 0.05597218069089378\n",
            "Epoch 72/100, Loss: 0.05440913807891362\n",
            "Epoch 73/100, Loss: 0.0825020811398322\n",
            "Epoch 74/100, Loss: 0.041629067135822845\n",
            "Epoch 75/100, Loss: 0.04320032011506194\n",
            "Epoch 76/100, Loss: 0.028091681305424752\n",
            "Epoch 77/100, Loss: 0.07787441786631268\n",
            "Epoch 78/100, Loss: 0.032981430692267964\n",
            "Epoch 79/100, Loss: 0.03612691151714679\n",
            "Epoch 80/100, Loss: 0.024164471709242102\n",
            "Epoch 81/100, Loss: 0.019104436699611444\n",
            "Epoch 82/100, Loss: 0.03216538575629816\n",
            "Epoch 83/100, Loss: 0.04038442170878225\n",
            "Epoch 84/100, Loss: 0.0323494913271985\n",
            "Epoch 85/100, Loss: 0.02618497190253928\n",
            "Epoch 86/100, Loss: 0.025568059719487998\n",
            "Epoch 87/100, Loss: 0.032510616804608504\n",
            "Epoch 88/100, Loss: 0.01712580237550833\n",
            "Epoch 89/100, Loss: 0.07638427733067185\n",
            "Epoch 90/100, Loss: 0.02729883103991416\n",
            "Epoch 91/100, Loss: 0.02451090556437295\n",
            "Epoch 92/100, Loss: 0.0661268198816436\n",
            "Epoch 93/100, Loss: 0.04071725887892081\n",
            "Epoch 94/100, Loss: 0.025858835622062246\n",
            "Epoch 95/100, Loss: 0.038603780691260935\n",
            "Epoch 96/100, Loss: 0.018595812675883294\n",
            "Epoch 97/100, Loss: 0.010744082386413892\n",
            "Epoch 98/100, Loss: 0.14508951176288173\n",
            "Epoch 99/100, Loss: 0.01824157583405072\n",
            "Epoch 100/100, Loss: 0.011676996957893806\n"
          ]
        }
      ]
    },
    {
      "cell_type": "code",
      "source": [
        "# set model to eva mode\n",
        "model.eval()"
      ],
      "metadata": {
        "colab": {
          "base_uri": "https://localhost:8080/"
        },
        "id": "hmGKm4jinTvY",
        "outputId": "0ce8f617-240c-489e-bd6d-c25976b0d5ff"
      },
      "execution_count": 118,
      "outputs": [
        {
          "output_type": "execute_result",
          "data": {
            "text/plain": [
              "MyNN(\n",
              "  (model): Sequential(\n",
              "    (0): Linear(in_features=784, out_features=128, bias=True)\n",
              "    (1): ReLU()\n",
              "    (2): Linear(in_features=128, out_features=64, bias=True)\n",
              "    (3): ReLU()\n",
              "    (4): Linear(in_features=64, out_features=10, bias=True)\n",
              "  )\n",
              ")"
            ]
          },
          "metadata": {},
          "execution_count": 118
        }
      ]
    },
    {
      "cell_type": "code",
      "source": [
        "# evaluation code\n",
        "\n",
        "total = 0\n",
        "correct = 0\n",
        "\n",
        "with torch.no_grad():\n",
        "  for batch_features, batch_labels in test_loader:\n",
        "    outputs = model(batch_features)\n",
        "\n",
        "    _, predicted = torch.max(outputs, 1)\n",
        "    total += batch_labels.size(0)\n",
        "    correct += (predicted == batch_labels).sum().item()\n",
        "\n",
        "accuracy = 100 * correct / total\n",
        "print(f\"Accuracy: {accuracy}%\")"
      ],
      "metadata": {
        "colab": {
          "base_uri": "https://localhost:8080/"
        },
        "id": "06ryUsbhoci9",
        "outputId": "744f8b6f-89fb-4d3f-adb1-c47ae38eac3e"
      },
      "execution_count": 119,
      "outputs": [
        {
          "output_type": "stream",
          "name": "stdout",
          "text": [
            "Accuracy: 85.08333333333333%\n"
          ]
        }
      ]
    },
    {
      "cell_type": "code",
      "source": [
        "# check fo gpu\n",
        "device = torch.device(\"cuda\" if torch.cuda.is_available() else \"cpu\")\n",
        "print(f\"Using device:{device}\")"
      ],
      "metadata": {
        "colab": {
          "base_uri": "https://localhost:8080/"
        },
        "id": "AUJeaR0Npftj",
        "outputId": "cd6dcfbf-60d4-44ba-f4aa-e919a8e7ff04"
      },
      "execution_count": 131,
      "outputs": [
        {
          "output_type": "stream",
          "name": "stdout",
          "text": [
            "Using device:cpu\n"
          ]
        }
      ]
    },
    {
      "cell_type": "code",
      "source": [],
      "metadata": {
        "id": "8_SATMI5uemM"
      },
      "execution_count": 131,
      "outputs": []
    }
  ],
  "metadata": {
    "colab": {
      "provenance": [],
      "gpuType": "T4",
      "include_colab_link": true
    },
    "kernelspec": {
      "display_name": "Python 3",
      "name": "python3"
    },
    "accelerator": "GPU"
  },
  "nbformat": 4,
  "nbformat_minor": 0
}